{
 "metadata": {
  "language_info": {
   "codemirror_mode": {
    "name": "ipython",
    "version": 3
   },
   "file_extension": ".py",
   "mimetype": "text/x-python",
   "name": "python",
   "nbconvert_exporter": "python",
   "pygments_lexer": "ipython3",
   "version": "3.7.7-final"
  },
  "orig_nbformat": 2,
  "kernelspec": {
   "name": "python3",
   "display_name": "Python 3"
  }
 },
 "nbformat": 4,
 "nbformat_minor": 2,
 "cells": [
  {
   "cell_type": "code",
   "execution_count": 1,
   "metadata": {},
   "outputs": [],
   "source": [
    "from tensorflow import keras\n",
    "from tensorflow.keras.models import Sequential\n",
    "from tensorflow.keras.layers import Dense, Dropout\n",
    "from tensorflow.keras.optimizers import RMSprop\n",
    "import matplotlib.pyplot as plt\n",
    "import pandas as pd\n",
    "import numpy as np"
   ]
  },
  {
   "cell_type": "code",
   "execution_count": 2,
   "metadata": {},
   "outputs": [
    {
     "output_type": "execute_result",
     "data": {
      "text/plain": "        party handicapped-infants water-project-cost-sharing  \\\n0  republican                   n                          y   \n1  republican                   n                          y   \n2    democrat                 NaN                          y   \n3    democrat                   n                          y   \n4    democrat                   y                          y   \n\n  adoption-of-the-budget-resolution physician-fee-freeze el-salvador-aid  \\\n0                                 n                    y               y   \n1                                 n                    y               y   \n2                                 y                  NaN               y   \n3                                 y                    n             NaN   \n4                                 y                    n               y   \n\n  religious-groups-in-schools anti-satellite-test-ban  \\\n0                           y                       n   \n1                           y                       n   \n2                           y                       n   \n3                           y                       n   \n4                           y                       n   \n\n  aid-to-nicaraguan-contras mx-missle immigration  \\\n0                         n         n           y   \n1                         n         n           n   \n2                         n         n           n   \n3                         n         n           n   \n4                         n         n           n   \n\n  synfuels-corporation-cutback education-spending superfund-right-to-sue  \\\n0                          NaN                  y                      y   \n1                            n                  y                      y   \n2                            y                  n                      y   \n3                            y                  n                      y   \n4                            y                NaN                      y   \n\n  crime duty-free-exports export-administration-act-south-africa  \n0     y                 n                                      y  \n1     y                 n                                    NaN  \n2     y                 n                                      n  \n3     n                 n                                      y  \n4     y                 y                                      y  ",
      "text/html": "<div>\n<style scoped>\n    .dataframe tbody tr th:only-of-type {\n        vertical-align: middle;\n    }\n\n    .dataframe tbody tr th {\n        vertical-align: top;\n    }\n\n    .dataframe thead th {\n        text-align: right;\n    }\n</style>\n<table border=\"1\" class=\"dataframe\">\n  <thead>\n    <tr style=\"text-align: right;\">\n      <th></th>\n      <th>party</th>\n      <th>handicapped-infants</th>\n      <th>water-project-cost-sharing</th>\n      <th>adoption-of-the-budget-resolution</th>\n      <th>physician-fee-freeze</th>\n      <th>el-salvador-aid</th>\n      <th>religious-groups-in-schools</th>\n      <th>anti-satellite-test-ban</th>\n      <th>aid-to-nicaraguan-contras</th>\n      <th>mx-missle</th>\n      <th>immigration</th>\n      <th>synfuels-corporation-cutback</th>\n      <th>education-spending</th>\n      <th>superfund-right-to-sue</th>\n      <th>crime</th>\n      <th>duty-free-exports</th>\n      <th>export-administration-act-south-africa</th>\n    </tr>\n  </thead>\n  <tbody>\n    <tr>\n      <th>0</th>\n      <td>republican</td>\n      <td>n</td>\n      <td>y</td>\n      <td>n</td>\n      <td>y</td>\n      <td>y</td>\n      <td>y</td>\n      <td>n</td>\n      <td>n</td>\n      <td>n</td>\n      <td>y</td>\n      <td>NaN</td>\n      <td>y</td>\n      <td>y</td>\n      <td>y</td>\n      <td>n</td>\n      <td>y</td>\n    </tr>\n    <tr>\n      <th>1</th>\n      <td>republican</td>\n      <td>n</td>\n      <td>y</td>\n      <td>n</td>\n      <td>y</td>\n      <td>y</td>\n      <td>y</td>\n      <td>n</td>\n      <td>n</td>\n      <td>n</td>\n      <td>n</td>\n      <td>n</td>\n      <td>y</td>\n      <td>y</td>\n      <td>y</td>\n      <td>n</td>\n      <td>NaN</td>\n    </tr>\n    <tr>\n      <th>2</th>\n      <td>democrat</td>\n      <td>NaN</td>\n      <td>y</td>\n      <td>y</td>\n      <td>NaN</td>\n      <td>y</td>\n      <td>y</td>\n      <td>n</td>\n      <td>n</td>\n      <td>n</td>\n      <td>n</td>\n      <td>y</td>\n      <td>n</td>\n      <td>y</td>\n      <td>y</td>\n      <td>n</td>\n      <td>n</td>\n    </tr>\n    <tr>\n      <th>3</th>\n      <td>democrat</td>\n      <td>n</td>\n      <td>y</td>\n      <td>y</td>\n      <td>n</td>\n      <td>NaN</td>\n      <td>y</td>\n      <td>n</td>\n      <td>n</td>\n      <td>n</td>\n      <td>n</td>\n      <td>y</td>\n      <td>n</td>\n      <td>y</td>\n      <td>n</td>\n      <td>n</td>\n      <td>y</td>\n    </tr>\n    <tr>\n      <th>4</th>\n      <td>democrat</td>\n      <td>y</td>\n      <td>y</td>\n      <td>y</td>\n      <td>n</td>\n      <td>y</td>\n      <td>y</td>\n      <td>n</td>\n      <td>n</td>\n      <td>n</td>\n      <td>n</td>\n      <td>y</td>\n      <td>NaN</td>\n      <td>y</td>\n      <td>y</td>\n      <td>y</td>\n      <td>y</td>\n    </tr>\n  </tbody>\n</table>\n</div>"
     },
     "metadata": {},
     "execution_count": 2
    }
   ],
   "source": [
    "feature_names = ['party', 'handicapped-infants', 'water-project-cost-sharing',\n",
    "                 'adoption-of-the-budget-resolution', 'physician-fee-freeze',\n",
    "                 'el-salvador-aid', 'religious-groups-in-schools',\n",
    "                 'anti-satellite-test-ban', 'aid-to-nicaraguan-contras',\n",
    "                 'mx-missle', 'immigration', 'synfuels-corporation-cutback',\n",
    "                 'education-spending', 'superfund-right-to-sue', 'crime',\n",
    "                 'duty-free-exports', 'export-administration-act-south-africa']\n",
    "\n",
    "voting_data = pd.read_csv('house-votes-84.data.txt', na_values=['?'],\n",
    "                          names=feature_names)\n",
    "\n",
    "voting_data.head()"
   ]
  },
  {
   "cell_type": "code",
   "execution_count": 3,
   "metadata": {},
   "outputs": [
    {
     "output_type": "execute_result",
     "data": {
      "text/plain": "           party handicapped-infants water-project-cost-sharing  \\\ncount        232                 232                        232   \nunique         2                   2                          2   \ntop     democrat                   n                          n   \nfreq         124                 136                        125   \n\n       adoption-of-the-budget-resolution physician-fee-freeze el-salvador-aid  \\\ncount                                232                  232             232   \nunique                                 2                    2               2   \ntop                                    y                    n               y   \nfreq                                 123                  119             128   \n\n       religious-groups-in-schools anti-satellite-test-ban  \\\ncount                          232                     232   \nunique                           2                       2   \ntop                              y                       y   \nfreq                           149                     124   \n\n       aid-to-nicaraguan-contras mx-missle immigration  \\\ncount                        232       232         232   \nunique                         2         2           2   \ntop                            y         n           y   \nfreq                         119       119         128   \n\n       synfuels-corporation-cutback education-spending superfund-right-to-sue  \\\ncount                           232                232                    232   \nunique                            2                  2                      2   \ntop                               n                  n                      y   \nfreq                            152                124                    127   \n\n       crime duty-free-exports export-administration-act-south-africa  \ncount    232               232                                    232  \nunique     2                 2                                      2  \ntop        y                 n                                      y  \nfreq     149               146                                    189  ",
      "text/html": "<div>\n<style scoped>\n    .dataframe tbody tr th:only-of-type {\n        vertical-align: middle;\n    }\n\n    .dataframe tbody tr th {\n        vertical-align: top;\n    }\n\n    .dataframe thead th {\n        text-align: right;\n    }\n</style>\n<table border=\"1\" class=\"dataframe\">\n  <thead>\n    <tr style=\"text-align: right;\">\n      <th></th>\n      <th>party</th>\n      <th>handicapped-infants</th>\n      <th>water-project-cost-sharing</th>\n      <th>adoption-of-the-budget-resolution</th>\n      <th>physician-fee-freeze</th>\n      <th>el-salvador-aid</th>\n      <th>religious-groups-in-schools</th>\n      <th>anti-satellite-test-ban</th>\n      <th>aid-to-nicaraguan-contras</th>\n      <th>mx-missle</th>\n      <th>immigration</th>\n      <th>synfuels-corporation-cutback</th>\n      <th>education-spending</th>\n      <th>superfund-right-to-sue</th>\n      <th>crime</th>\n      <th>duty-free-exports</th>\n      <th>export-administration-act-south-africa</th>\n    </tr>\n  </thead>\n  <tbody>\n    <tr>\n      <th>count</th>\n      <td>232</td>\n      <td>232</td>\n      <td>232</td>\n      <td>232</td>\n      <td>232</td>\n      <td>232</td>\n      <td>232</td>\n      <td>232</td>\n      <td>232</td>\n      <td>232</td>\n      <td>232</td>\n      <td>232</td>\n      <td>232</td>\n      <td>232</td>\n      <td>232</td>\n      <td>232</td>\n      <td>232</td>\n    </tr>\n    <tr>\n      <th>unique</th>\n      <td>2</td>\n      <td>2</td>\n      <td>2</td>\n      <td>2</td>\n      <td>2</td>\n      <td>2</td>\n      <td>2</td>\n      <td>2</td>\n      <td>2</td>\n      <td>2</td>\n      <td>2</td>\n      <td>2</td>\n      <td>2</td>\n      <td>2</td>\n      <td>2</td>\n      <td>2</td>\n      <td>2</td>\n    </tr>\n    <tr>\n      <th>top</th>\n      <td>democrat</td>\n      <td>n</td>\n      <td>n</td>\n      <td>y</td>\n      <td>n</td>\n      <td>y</td>\n      <td>y</td>\n      <td>y</td>\n      <td>y</td>\n      <td>n</td>\n      <td>y</td>\n      <td>n</td>\n      <td>n</td>\n      <td>y</td>\n      <td>y</td>\n      <td>n</td>\n      <td>y</td>\n    </tr>\n    <tr>\n      <th>freq</th>\n      <td>124</td>\n      <td>136</td>\n      <td>125</td>\n      <td>123</td>\n      <td>119</td>\n      <td>128</td>\n      <td>149</td>\n      <td>124</td>\n      <td>119</td>\n      <td>119</td>\n      <td>128</td>\n      <td>152</td>\n      <td>124</td>\n      <td>127</td>\n      <td>149</td>\n      <td>146</td>\n      <td>189</td>\n    </tr>\n  </tbody>\n</table>\n</div>"
     },
     "metadata": {},
     "execution_count": 3
    }
   ],
   "source": [
    "voting_data.dropna(inplace=True)\n",
    "voting_data.describe()"
   ]
  },
  {
   "cell_type": "code",
   "execution_count": 4,
   "metadata": {},
   "outputs": [
    {
     "output_type": "execute_result",
     "data": {
      "text/plain": "    party  handicapped-infants  water-project-cost-sharing  \\\n5       1                    0                           1   \n8       0                    0                           1   \n19      1                    1                           1   \n23      1                    1                           1   \n25      1                    1                           0   \n\n    adoption-of-the-budget-resolution  physician-fee-freeze  el-salvador-aid  \\\n5                                   1                     0                1   \n8                                   0                     1                1   \n19                                  1                     0                0   \n23                                  1                     0                0   \n25                                  1                     0                0   \n\n    religious-groups-in-schools  anti-satellite-test-ban  \\\n5                             1                        0   \n8                             1                        0   \n19                            0                        1   \n23                            0                        1   \n25                            0                        1   \n\n    aid-to-nicaraguan-contras  mx-missle  immigration  \\\n5                           0          0            0   \n8                           0          0            0   \n19                          1          1            0   \n23                          1          1            0   \n25                          1          1            1   \n\n    synfuels-corporation-cutback  education-spending  superfund-right-to-sue  \\\n5                              0                   0                       1   \n8                              0                   1                       1   \n19                             1                   0                       0   \n23                             0                   0                       0   \n25                             0                   0                       0   \n\n    crime  duty-free-exports  export-administration-act-south-africa  \n5       1                  1                                       1  \n8       1                  0                                       1  \n19      0                  1                                       1  \n23      0                  1                                       1  \n25      0                  1                                       1  ",
      "text/html": "<div>\n<style scoped>\n    .dataframe tbody tr th:only-of-type {\n        vertical-align: middle;\n    }\n\n    .dataframe tbody tr th {\n        vertical-align: top;\n    }\n\n    .dataframe thead th {\n        text-align: right;\n    }\n</style>\n<table border=\"1\" class=\"dataframe\">\n  <thead>\n    <tr style=\"text-align: right;\">\n      <th></th>\n      <th>party</th>\n      <th>handicapped-infants</th>\n      <th>water-project-cost-sharing</th>\n      <th>adoption-of-the-budget-resolution</th>\n      <th>physician-fee-freeze</th>\n      <th>el-salvador-aid</th>\n      <th>religious-groups-in-schools</th>\n      <th>anti-satellite-test-ban</th>\n      <th>aid-to-nicaraguan-contras</th>\n      <th>mx-missle</th>\n      <th>immigration</th>\n      <th>synfuels-corporation-cutback</th>\n      <th>education-spending</th>\n      <th>superfund-right-to-sue</th>\n      <th>crime</th>\n      <th>duty-free-exports</th>\n      <th>export-administration-act-south-africa</th>\n    </tr>\n  </thead>\n  <tbody>\n    <tr>\n      <th>5</th>\n      <td>1</td>\n      <td>0</td>\n      <td>1</td>\n      <td>1</td>\n      <td>0</td>\n      <td>1</td>\n      <td>1</td>\n      <td>0</td>\n      <td>0</td>\n      <td>0</td>\n      <td>0</td>\n      <td>0</td>\n      <td>0</td>\n      <td>1</td>\n      <td>1</td>\n      <td>1</td>\n      <td>1</td>\n    </tr>\n    <tr>\n      <th>8</th>\n      <td>0</td>\n      <td>0</td>\n      <td>1</td>\n      <td>0</td>\n      <td>1</td>\n      <td>1</td>\n      <td>1</td>\n      <td>0</td>\n      <td>0</td>\n      <td>0</td>\n      <td>0</td>\n      <td>0</td>\n      <td>1</td>\n      <td>1</td>\n      <td>1</td>\n      <td>0</td>\n      <td>1</td>\n    </tr>\n    <tr>\n      <th>19</th>\n      <td>1</td>\n      <td>1</td>\n      <td>1</td>\n      <td>1</td>\n      <td>0</td>\n      <td>0</td>\n      <td>0</td>\n      <td>1</td>\n      <td>1</td>\n      <td>1</td>\n      <td>0</td>\n      <td>1</td>\n      <td>0</td>\n      <td>0</td>\n      <td>0</td>\n      <td>1</td>\n      <td>1</td>\n    </tr>\n    <tr>\n      <th>23</th>\n      <td>1</td>\n      <td>1</td>\n      <td>1</td>\n      <td>1</td>\n      <td>0</td>\n      <td>0</td>\n      <td>0</td>\n      <td>1</td>\n      <td>1</td>\n      <td>1</td>\n      <td>0</td>\n      <td>0</td>\n      <td>0</td>\n      <td>0</td>\n      <td>0</td>\n      <td>1</td>\n      <td>1</td>\n    </tr>\n    <tr>\n      <th>25</th>\n      <td>1</td>\n      <td>1</td>\n      <td>0</td>\n      <td>1</td>\n      <td>0</td>\n      <td>0</td>\n      <td>0</td>\n      <td>1</td>\n      <td>1</td>\n      <td>1</td>\n      <td>1</td>\n      <td>0</td>\n      <td>0</td>\n      <td>0</td>\n      <td>0</td>\n      <td>1</td>\n      <td>1</td>\n    </tr>\n  </tbody>\n</table>\n</div>"
     },
     "metadata": {},
     "execution_count": 4
    }
   ],
   "source": [
    "voting_data.replace(('y', 'n'), (1, 0), inplace=True)\n",
    "voting_data.replace(('democrat', 'republican'), (1, 0), inplace=True)\n",
    "voting_data.head()"
   ]
  },
  {
   "cell_type": "code",
   "execution_count": 5,
   "metadata": {
    "tags": []
   },
   "outputs": [
    {
     "output_type": "stream",
     "name": "stdout",
     "text": "[0 1 1 0 1 1 0 0 0 0 0 0 1 1 1 1]\n1\n232\n"
    }
   ],
   "source": [
    "all_features = voting_data[feature_names].drop('party', axis=1).values\n",
    "all_classes = voting_data['party'].values\n",
    "print(all_features[0])\n",
    "print(all_classes[0])\n",
    "print(len(all_classes))"
   ]
  },
  {
   "cell_type": "code",
   "execution_count": 6,
   "metadata": {},
   "outputs": [],
   "source": [
    "train_features = all_features[:200]\n",
    "train_result = all_classes[:200]\n",
    "test_features = all_features[200:]\n",
    "test_result = all_classes[200:]"
   ]
  },
  {
   "cell_type": "code",
   "execution_count": 7,
   "metadata": {},
   "outputs": [],
   "source": [
    "def create_model():\n",
    "    model = Sequential()\n",
    "    model.add(Dense(32, input_dim=16, kernel_initializer='normal', activation='relu'))\n",
    "    model.add(Dense(16, kernel_initializer='normal', activation='relu'))\n",
    "    model.add(Dense(1, kernel_initializer='normal', activation='sigmoid'))\n",
    "    model.compile(loss='binary_crossentropy', optimizer='adam', metrics=['accuracy'])\n",
    "    return model"
   ]
  },
  {
   "source": [
    "# Method 1"
   ],
   "cell_type": "markdown",
   "metadata": {}
  },
  {
   "cell_type": "code",
   "execution_count": 8,
   "metadata": {},
   "outputs": [],
   "source": [
    "from tensorflow.keras.wrappers.scikit_learn import KerasClassifier\n",
    "from sklearn.model_selection import cross_val_score\n",
    "\n",
    "# Wrap our Keras model in an estimator compatible with scikit_learn\n",
    "estimator = KerasClassifier(build_fn=create_model, epochs=100, verbose=0)"
   ]
  },
  {
   "cell_type": "code",
   "execution_count": 9,
   "metadata": {},
   "outputs": [
    {
     "output_type": "execute_result",
     "data": {
      "text/plain": "0.9438405811786652"
     },
     "metadata": {},
     "execution_count": 9
    }
   ],
   "source": [
    "# Now we can use scikit_learn's cross_val_score to evaluate this model identically to the others\n",
    "cv_scores = cross_val_score(estimator, all_features, all_classes, cv=10)\n",
    "cv_scores.mean()"
   ]
  },
  {
   "source": [
    "# Method 2"
   ],
   "cell_type": "markdown",
   "metadata": {}
  },
  {
   "cell_type": "code",
   "execution_count": 10,
   "metadata": {},
   "outputs": [],
   "source": [
    "model = create_model()"
   ]
  },
  {
   "cell_type": "code",
   "execution_count": 11,
   "metadata": {
    "tags": []
   },
   "outputs": [
    {
     "output_type": "stream",
     "name": "stdout",
     "text": "Epoch 1/50\n8/8 [==============================] - 0s 15ms/step - loss: 0.6922 - accuracy: 0.6900 - val_loss: 0.6911 - val_accuracy: 0.8125\nEpoch 2/50\n8/8 [==============================] - 0s 6ms/step - loss: 0.6892 - accuracy: 0.8650 - val_loss: 0.6878 - val_accuracy: 0.8438\nEpoch 3/50\n8/8 [==============================] - 0s 8ms/step - loss: 0.6843 - accuracy: 0.8850 - val_loss: 0.6818 - val_accuracy: 0.8750\nEpoch 4/50\n8/8 [==============================] - 0s 6ms/step - loss: 0.6755 - accuracy: 0.8900 - val_loss: 0.6711 - val_accuracy: 0.8750\nEpoch 5/50\n8/8 [==============================] - 0s 8ms/step - loss: 0.6605 - accuracy: 0.8900 - val_loss: 0.6543 - val_accuracy: 0.8750\nEpoch 6/50\n8/8 [==============================] - 0s 6ms/step - loss: 0.6382 - accuracy: 0.8900 - val_loss: 0.6301 - val_accuracy: 0.8750\nEpoch 7/50\n8/8 [==============================] - 0s 6ms/step - loss: 0.6077 - accuracy: 0.8850 - val_loss: 0.5959 - val_accuracy: 0.8750\nEpoch 8/50\n8/8 [==============================] - 0s 7ms/step - loss: 0.5652 - accuracy: 0.8900 - val_loss: 0.5540 - val_accuracy: 0.8750\nEpoch 9/50\n8/8 [==============================] - 0s 6ms/step - loss: 0.5148 - accuracy: 0.9000 - val_loss: 0.5057 - val_accuracy: 0.8750\nEpoch 10/50\n8/8 [==============================] - 0s 7ms/step - loss: 0.4599 - accuracy: 0.8950 - val_loss: 0.4556 - val_accuracy: 0.8438\nEpoch 11/50\n8/8 [==============================] - 0s 7ms/step - loss: 0.4039 - accuracy: 0.9050 - val_loss: 0.4105 - val_accuracy: 0.8438\nEpoch 12/50\n8/8 [==============================] - 0s 7ms/step - loss: 0.3539 - accuracy: 0.9150 - val_loss: 0.3719 - val_accuracy: 0.8438\nEpoch 13/50\n8/8 [==============================] - 0s 27ms/step - loss: 0.3091 - accuracy: 0.9100 - val_loss: 0.3450 - val_accuracy: 0.8438\nEpoch 14/50\n8/8 [==============================] - 0s 6ms/step - loss: 0.2737 - accuracy: 0.9150 - val_loss: 0.3243 - val_accuracy: 0.8750\nEpoch 15/50\n8/8 [==============================] - 0s 6ms/step - loss: 0.2454 - accuracy: 0.9150 - val_loss: 0.3111 - val_accuracy: 0.8750\nEpoch 16/50\n8/8 [==============================] - 0s 6ms/step - loss: 0.2222 - accuracy: 0.9350 - val_loss: 0.3095 - val_accuracy: 0.8750\nEpoch 17/50\n8/8 [==============================] - 0s 6ms/step - loss: 0.2045 - accuracy: 0.9300 - val_loss: 0.3019 - val_accuracy: 0.8750\nEpoch 18/50\n8/8 [==============================] - 0s 6ms/step - loss: 0.1898 - accuracy: 0.9350 - val_loss: 0.2985 - val_accuracy: 0.8750\nEpoch 19/50\n8/8 [==============================] - 0s 6ms/step - loss: 0.1764 - accuracy: 0.9350 - val_loss: 0.2913 - val_accuracy: 0.8750\nEpoch 20/50\n8/8 [==============================] - 0s 7ms/step - loss: 0.1662 - accuracy: 0.9350 - val_loss: 0.2910 - val_accuracy: 0.9062\nEpoch 21/50\n8/8 [==============================] - 0s 9ms/step - loss: 0.1547 - accuracy: 0.9400 - val_loss: 0.2848 - val_accuracy: 0.9062\nEpoch 22/50\n8/8 [==============================] - 0s 6ms/step - loss: 0.1458 - accuracy: 0.9400 - val_loss: 0.2746 - val_accuracy: 0.9062\nEpoch 23/50\n8/8 [==============================] - 0s 6ms/step - loss: 0.1382 - accuracy: 0.9500 - val_loss: 0.2630 - val_accuracy: 0.9062\nEpoch 24/50\n8/8 [==============================] - 0s 6ms/step - loss: 0.1295 - accuracy: 0.9500 - val_loss: 0.2671 - val_accuracy: 0.9062\nEpoch 25/50\n8/8 [==============================] - 0s 6ms/step - loss: 0.1218 - accuracy: 0.9550 - val_loss: 0.2674 - val_accuracy: 0.9062\nEpoch 26/50\n8/8 [==============================] - 0s 7ms/step - loss: 0.1152 - accuracy: 0.9550 - val_loss: 0.2580 - val_accuracy: 0.9062\nEpoch 27/50\n8/8 [==============================] - 0s 7ms/step - loss: 0.1094 - accuracy: 0.9600 - val_loss: 0.2537 - val_accuracy: 0.9062\nEpoch 28/50\n8/8 [==============================] - 0s 7ms/step - loss: 0.1034 - accuracy: 0.9600 - val_loss: 0.2503 - val_accuracy: 0.9062\nEpoch 29/50\n8/8 [==============================] - 0s 6ms/step - loss: 0.0981 - accuracy: 0.9700 - val_loss: 0.2481 - val_accuracy: 0.9062\nEpoch 30/50\n8/8 [==============================] - 0s 7ms/step - loss: 0.0926 - accuracy: 0.9750 - val_loss: 0.2447 - val_accuracy: 0.9062\nEpoch 31/50\n8/8 [==============================] - 0s 7ms/step - loss: 0.0877 - accuracy: 0.9750 - val_loss: 0.2479 - val_accuracy: 0.9062\nEpoch 32/50\n8/8 [==============================] - 0s 6ms/step - loss: 0.0863 - accuracy: 0.9800 - val_loss: 0.2404 - val_accuracy: 0.9062\nEpoch 33/50\n8/8 [==============================] - 0s 6ms/step - loss: 0.0799 - accuracy: 0.9800 - val_loss: 0.2485 - val_accuracy: 0.9062\nEpoch 34/50\n8/8 [==============================] - 0s 6ms/step - loss: 0.0773 - accuracy: 0.9750 - val_loss: 0.2625 - val_accuracy: 0.9062\nEpoch 35/50\n8/8 [==============================] - 0s 6ms/step - loss: 0.0745 - accuracy: 0.9750 - val_loss: 0.2477 - val_accuracy: 0.9062\nEpoch 36/50\n8/8 [==============================] - 0s 6ms/step - loss: 0.0707 - accuracy: 0.9750 - val_loss: 0.2415 - val_accuracy: 0.9062\nEpoch 37/50\n8/8 [==============================] - 0s 6ms/step - loss: 0.0676 - accuracy: 0.9750 - val_loss: 0.2462 - val_accuracy: 0.9062\nEpoch 38/50\n8/8 [==============================] - 0s 6ms/step - loss: 0.0651 - accuracy: 0.9750 - val_loss: 0.2478 - val_accuracy: 0.9062\nEpoch 39/50\n8/8 [==============================] - 0s 7ms/step - loss: 0.0627 - accuracy: 0.9750 - val_loss: 0.2491 - val_accuracy: 0.9062\nEpoch 40/50\n8/8 [==============================] - 0s 6ms/step - loss: 0.0605 - accuracy: 0.9750 - val_loss: 0.2455 - val_accuracy: 0.9062\nEpoch 41/50\n8/8 [==============================] - 0s 8ms/step - loss: 0.0593 - accuracy: 0.9750 - val_loss: 0.2521 - val_accuracy: 0.9062\nEpoch 42/50\n8/8 [==============================] - 0s 6ms/step - loss: 0.0573 - accuracy: 0.9750 - val_loss: 0.2470 - val_accuracy: 0.9062\nEpoch 43/50\n8/8 [==============================] - 0s 6ms/step - loss: 0.0551 - accuracy: 0.9750 - val_loss: 0.2466 - val_accuracy: 0.9062\nEpoch 44/50\n8/8 [==============================] - 0s 6ms/step - loss: 0.0541 - accuracy: 0.9750 - val_loss: 0.2478 - val_accuracy: 0.9062\nEpoch 45/50\n8/8 [==============================] - 0s 6ms/step - loss: 0.0521 - accuracy: 0.9750 - val_loss: 0.2565 - val_accuracy: 0.9062\nEpoch 46/50\n8/8 [==============================] - 0s 7ms/step - loss: 0.0507 - accuracy: 0.9750 - val_loss: 0.2566 - val_accuracy: 0.9062\nEpoch 47/50\n8/8 [==============================] - 0s 7ms/step - loss: 0.0499 - accuracy: 0.9750 - val_loss: 0.2480 - val_accuracy: 0.9062\nEpoch 48/50\n8/8 [==============================] - 0s 8ms/step - loss: 0.0486 - accuracy: 0.9750 - val_loss: 0.2580 - val_accuracy: 0.9062\nEpoch 49/50\n8/8 [==============================] - 0s 6ms/step - loss: 0.0472 - accuracy: 0.9750 - val_loss: 0.2549 - val_accuracy: 0.9062\nEpoch 50/50\n8/8 [==============================] - 0s 7ms/step - loss: 0.0465 - accuracy: 0.9800 - val_loss: 0.2528 - val_accuracy: 0.9062\n"
    }
   ],
   "source": [
    "model.compile(loss='binary_crossentropy',\n",
    "              optimizer='adam',\n",
    "              metrics=['accuracy'])\n",
    "\n",
    "history = model.fit(train_features, train_result,\n",
    "                    batch_size=25,\n",
    "                    epochs=50,\n",
    "                    validation_data=(test_features, test_result))"
   ]
  },
  {
   "cell_type": "code",
   "execution_count": 12,
   "metadata": {
    "tags": []
   },
   "outputs": [
    {
     "output_type": "stream",
     "name": "stdout",
     "text": "1/1 [==============================] - 0s 980us/step - loss: 0.2528 - accuracy: 0.9062\nTest loss: 0.25278350710868835\nTest accuracy: 0.90625\n"
    }
   ],
   "source": [
    "score = model.evaluate(test_features, test_result)\n",
    "print('Test loss:', score[0])\n",
    "print('Test accuracy:', score[1])"
   ]
  },
  {
   "cell_type": "code",
   "execution_count": 13,
   "metadata": {
    "tags": []
   },
   "outputs": [
    {
     "output_type": "stream",
     "name": "stdout",
     "text": "democrat\n"
    }
   ],
   "source": [
    "features = np.reshape(all_features[0], (1, 16))\n",
    "pred = model.predict(features)\n",
    "\n",
    "if pred>=0.5:\n",
    "    print(\"democrat\")\n",
    "else:\n",
    "    print(\"reublican\")"
   ]
  }
 ]
}