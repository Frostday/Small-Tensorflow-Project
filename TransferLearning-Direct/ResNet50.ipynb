{
 "metadata": {
  "language_info": {
   "codemirror_mode": {
    "name": "ipython",
    "version": 3
   },
   "file_extension": ".py",
   "mimetype": "text/x-python",
   "name": "python",
   "nbconvert_exporter": "python",
   "pygments_lexer": "ipython3",
   "version": "3.7.7-final"
  },
  "orig_nbformat": 2,
  "kernelspec": {
   "name": "python3",
   "display_name": "Python 3"
  }
 },
 "nbformat": 4,
 "nbformat_minor": 2,
 "cells": [
  {
   "cell_type": "code",
   "execution_count": 1,
   "metadata": {},
   "outputs": [],
   "source": [
    "from IPython.display import Image, display\n",
    "from tensorflow.keras.applications.resnet50 import ResNet50\n",
    "from tensorflow.keras.preprocessing import image\n",
    "from tensorflow.keras.applications.resnet50 import preprocess_input, decode_predictions\n",
    "import numpy as np"
   ]
  },
  {
   "cell_type": "code",
   "execution_count": 2,
   "metadata": {},
   "outputs": [],
   "source": [
    "img_path = '../images/fighterjet.jpg'\n",
    "img = image.load_img(img_path, target_size=(224, 224))  \n",
    "# ResNet expects input image to have 224*224 resolution\n",
    "x = image.img_to_array(img)\n",
    "x = np.expand_dims(x, axis=0)  \n",
    "# these 2 lines convert image into a numpy array\n",
    "x = preprocess_input(x)  \n",
    "# ResNet function to pre-process the image"
   ]
  },
  {
   "cell_type": "code",
   "execution_count": 3,
   "metadata": {
    "tags": []
   },
   "outputs": [],
   "source": [
    "model = ResNet50(weights='imagenet')\n",
    "preds = model.predict(x)"
   ]
  },
  {
   "cell_type": "code",
   "execution_count": 4,
   "metadata": {
    "tags": []
   },
   "outputs": [
    {
     "output_type": "stream",
     "name": "stdout",
     "text": "Downloading data from https://storage.googleapis.com/download.tensorflow.org/data/imagenet_class_index.json\n40960/35363 [==================================] - 0s 0us/step\nPredicted: [('n04552348', 'warplane', 0.77994937), ('n03773504', 'missile', 0.12333837), ('n04008634', 'projectile', 0.08219532)]\n"
    }
   ],
   "source": [
    "# decode the results into a list of tuples (class, description, probability)\n",
    "print('Predicted:', decode_predictions(preds, top=3)[0])  \n",
    "# printing top 3 predictions"
   ]
  },
  {
   "cell_type": "code",
   "execution_count": 5,
   "metadata": {
    "tags": []
   },
   "outputs": [
    {
     "output_type": "stream",
     "name": "stdout",
     "text": "Predicted: [('n02325366', 'wood_rabbit', 0.86103386), ('n02326432', 'hare', 0.13783704), ('n01877812', 'wallaby', 0.00023053997)]\nPredicted: [('n03345487', 'fire_engine', 0.9478981), ('n04461696', 'tow_truck', 0.030561836), ('n03594945', 'jeep', 0.0042428053)]\nPredicted: [('n03201208', 'dining_table', 0.39351383), ('n04476259', 'tray', 0.3599602), ('n04081281', 'restaurant', 0.13865452)]\nPredicted: [('n02980441', 'castle', 0.99967086), ('n03781244', 'monastery', 0.00019273623), ('n03877845', 'palace', 0.000113659524)]\nPredicted: [('n04366367', 'suspension_bridge', 0.45587224), ('n03933933', 'pier', 0.3933464), ('n03000134', 'chainlink_fence', 0.14159213)]\nPredicted: [('n04044716', 'radio_telescope', 0.99962413), ('n09421951', 'sandbar', 0.00013842397), ('n02028035', 'redshank', 6.9995964e-05)]\n"
    }
   ],
   "source": [
    "model = ResNet50(weights='imagenet')\n",
    "\n",
    "def classify(img_path):\n",
    "\n",
    "    img = image.load_img(img_path, target_size=(224, 224))\n",
    "\n",
    "    x = image.img_to_array(img)\n",
    "    x = np.expand_dims(x, axis=0)\n",
    "    x = preprocess_input(x)\n",
    "\n",
    "    preds = model.predict(x)\n",
    "    print('Predicted:', decode_predictions(preds, top=3)[0])\n",
    "\n",
    "\n",
    "classify('../images/bunny.jpg')\n",
    "classify('../images/firetruck.jpg')\n",
    "classify('../images/breakfast.jpg')\n",
    "classify('../images/castle.jpg')\n",
    "classify('../images/bridge.jpg')\n",
    "classify('../images/VLA.jpg')"
   ]
  }
 ]
}