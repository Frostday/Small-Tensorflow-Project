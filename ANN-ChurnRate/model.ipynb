{
 "metadata": {
  "language_info": {
   "codemirror_mode": {
    "name": "ipython",
    "version": 3
   },
   "file_extension": ".py",
   "mimetype": "text/x-python",
   "name": "python",
   "nbconvert_exporter": "python",
   "pygments_lexer": "ipython3",
   "version": "3.7.7-final"
  },
  "orig_nbformat": 2,
  "kernelspec": {
   "name": "python3",
   "display_name": "Python 3"
  }
 },
 "nbformat": 4,
 "nbformat_minor": 2,
 "cells": [
  {
   "cell_type": "code",
   "execution_count": 1,
   "metadata": {},
   "outputs": [],
   "source": [
    "import numpy as np\n",
    "import matplotlib.pyplot as plt\n",
    "import pandas as pd\n",
    "\n",
    "from sklearn.preprocessing import LabelEncoder, OneHotEncoder\n",
    "from sklearn.compose import ColumnTransformer\n",
    "from sklearn.model_selection import train_test_split\n",
    "from sklearn.preprocessing import StandardScaler\n",
    "from sklearn.metrics import confusion_matrix\n",
    "from sklearn.model_selection import cross_val_score\n",
    "from sklearn.model_selection import GridSearchCV\n",
    "\n",
    "import tensorflow as tf\n",
    "from tensorflow.keras.models import Sequential\n",
    "from tensorflow.keras.layers import Dense, Dropout\n",
    "from tensorflow.keras.wrappers.scikit_learn import KerasClassifier"
   ]
  },
  {
   "cell_type": "code",
   "execution_count": 2,
   "metadata": {},
   "outputs": [
    {
     "output_type": "execute_result",
     "data": {
      "text/plain": "   RowNumber  CustomerId   Surname  CreditScore Geography  Gender  Age  \\\n0          1    15634602  Hargrave          619    France  Female   42   \n1          2    15647311      Hill          608     Spain  Female   41   \n2          3    15619304      Onio          502    France  Female   42   \n3          4    15701354      Boni          699    France  Female   39   \n4          5    15737888  Mitchell          850     Spain  Female   43   \n\n   Tenure    Balance  NumOfProducts  HasCrCard  IsActiveMember  \\\n0       2       0.00              1          1               1   \n1       1   83807.86              1          0               1   \n2       8  159660.80              3          1               0   \n3       1       0.00              2          0               0   \n4       2  125510.82              1          1               1   \n\n   EstimatedSalary  Exited  \n0        101348.88       1  \n1        112542.58       0  \n2        113931.57       1  \n3         93826.63       0  \n4         79084.10       0  ",
      "text/html": "<div>\n<style scoped>\n    .dataframe tbody tr th:only-of-type {\n        vertical-align: middle;\n    }\n\n    .dataframe tbody tr th {\n        vertical-align: top;\n    }\n\n    .dataframe thead th {\n        text-align: right;\n    }\n</style>\n<table border=\"1\" class=\"dataframe\">\n  <thead>\n    <tr style=\"text-align: right;\">\n      <th></th>\n      <th>RowNumber</th>\n      <th>CustomerId</th>\n      <th>Surname</th>\n      <th>CreditScore</th>\n      <th>Geography</th>\n      <th>Gender</th>\n      <th>Age</th>\n      <th>Tenure</th>\n      <th>Balance</th>\n      <th>NumOfProducts</th>\n      <th>HasCrCard</th>\n      <th>IsActiveMember</th>\n      <th>EstimatedSalary</th>\n      <th>Exited</th>\n    </tr>\n  </thead>\n  <tbody>\n    <tr>\n      <th>0</th>\n      <td>1</td>\n      <td>15634602</td>\n      <td>Hargrave</td>\n      <td>619</td>\n      <td>France</td>\n      <td>Female</td>\n      <td>42</td>\n      <td>2</td>\n      <td>0.00</td>\n      <td>1</td>\n      <td>1</td>\n      <td>1</td>\n      <td>101348.88</td>\n      <td>1</td>\n    </tr>\n    <tr>\n      <th>1</th>\n      <td>2</td>\n      <td>15647311</td>\n      <td>Hill</td>\n      <td>608</td>\n      <td>Spain</td>\n      <td>Female</td>\n      <td>41</td>\n      <td>1</td>\n      <td>83807.86</td>\n      <td>1</td>\n      <td>0</td>\n      <td>1</td>\n      <td>112542.58</td>\n      <td>0</td>\n    </tr>\n    <tr>\n      <th>2</th>\n      <td>3</td>\n      <td>15619304</td>\n      <td>Onio</td>\n      <td>502</td>\n      <td>France</td>\n      <td>Female</td>\n      <td>42</td>\n      <td>8</td>\n      <td>159660.80</td>\n      <td>3</td>\n      <td>1</td>\n      <td>0</td>\n      <td>113931.57</td>\n      <td>1</td>\n    </tr>\n    <tr>\n      <th>3</th>\n      <td>4</td>\n      <td>15701354</td>\n      <td>Boni</td>\n      <td>699</td>\n      <td>France</td>\n      <td>Female</td>\n      <td>39</td>\n      <td>1</td>\n      <td>0.00</td>\n      <td>2</td>\n      <td>0</td>\n      <td>0</td>\n      <td>93826.63</td>\n      <td>0</td>\n    </tr>\n    <tr>\n      <th>4</th>\n      <td>5</td>\n      <td>15737888</td>\n      <td>Mitchell</td>\n      <td>850</td>\n      <td>Spain</td>\n      <td>Female</td>\n      <td>43</td>\n      <td>2</td>\n      <td>125510.82</td>\n      <td>1</td>\n      <td>1</td>\n      <td>1</td>\n      <td>79084.10</td>\n      <td>0</td>\n    </tr>\n  </tbody>\n</table>\n</div>"
     },
     "metadata": {},
     "execution_count": 2
    }
   ],
   "source": [
    "dataset = pd.read_csv('Churn_Modelling.csv')\n",
    "dataset.head()"
   ]
  },
  {
   "cell_type": "code",
   "execution_count": 3,
   "metadata": {
    "tags": []
   },
   "outputs": [
    {
     "output_type": "stream",
     "name": "stdout",
     "text": "(10000, 10)\n(10000,)\n"
    }
   ],
   "source": [
    "X = dataset.iloc[:, 3:13].values\n",
    "# we take all rows and all columns from index 3 to 12(features)\n",
    "y = dataset.iloc[:, 13].values\n",
    "# results\n",
    "print(X.shape)\n",
    "print(y.shape)"
   ]
  },
  {
   "cell_type": "code",
   "execution_count": 4,
   "metadata": {
    "tags": []
   },
   "outputs": [
    {
     "output_type": "stream",
     "name": "stdout",
     "text": "[[619 'France' 0 ... 1 1 101348.88]\n [608 'Spain' 0 ... 0 1 112542.58]\n [502 'France' 0 ... 1 0 113931.57]\n ...\n [709 'France' 0 ... 0 1 42085.58]\n [772 'Germany' 1 ... 1 0 92888.52]\n [792 'France' 0 ... 1 0 38190.78]]\n(10000, 10)\n"
    }
   ],
   "source": [
    "labelencoder_X_gender = LabelEncoder()\n",
    "X[:, 2] = labelencoder_X_gender.fit_transform(X[:, 2])  \n",
    "# changing gender to numbers\n",
    "# we use label encoder because there are only 2 types of genders.\n",
    "print(X)\n",
    "print(X.shape)"
   ]
  },
  {
   "cell_type": "code",
   "execution_count": 5,
   "metadata": {
    "tags": []
   },
   "outputs": [
    {
     "output_type": "stream",
     "name": "stdout",
     "text": "[['0.0' '0.0' '619' ... '1' '1' '101348.88']\n ['0.0' '1.0' '608' ... '0' '1' '112542.58']\n ['0.0' '0.0' '502' ... '1' '0' '113931.57']\n ...\n ['0.0' '0.0' '709' ... '0' '1' '42085.58']\n ['1.0' '0.0' '772' ... '1' '0' '92888.52']\n ['0.0' '0.0' '792' ... '1' '0' '38190.78']]\n(10000, 11)\n"
    }
   ],
   "source": [
    "# now convert country to 3 dummy variables in one hot format because we have 3 different types of countries\n",
    "columnTransformer = ColumnTransformer([('encoder', OneHotEncoder(), [1])], remainder='passthrough')\n",
    "X = np.array(columnTransformer.fit_transform(X), dtype=np.str)\n",
    "X = X[:, 1:]  \n",
    "# remove one dummy variable to avoid the dummy variable trap\n",
    "print(X)\n",
    "# credit score is shifted after geography\n",
    "print(X.shape)"
   ]
  },
  {
   "cell_type": "code",
   "execution_count": 6,
   "metadata": {},
   "outputs": [],
   "source": [
    "X_train, X_test, y_train, y_test = train_test_split(X, y, test_size=0.2, random_state=0)\n",
    "\n",
    "sc = StandardScaler()\n",
    "X_train = sc.fit_transform(X_train)\n",
    "X_test = sc.fit_transform(X_test)"
   ]
  },
  {
   "source": [
    "# Model"
   ],
   "cell_type": "markdown",
   "metadata": {}
  },
  {
   "cell_type": "code",
   "execution_count": 7,
   "metadata": {},
   "outputs": [],
   "source": [
    "def build_classifier():  # for kerasclassifier as it needs a function\n",
    "    classifier = Sequential()\n",
    "    classifier.add(Dense(units=6, kernel_initializer='uniform', activation='relu', input_dim=11))\n",
    "    classifier.add(Dropout(rate=0.1))\n",
    "    classifier.add(Dense(units=6, kernel_initializer='uniform', activation='relu'))\n",
    "    classifier.add(Dropout(rate=0.1))\n",
    "    classifier.add(Dense(units=1, kernel_initializer='uniform', activation='sigmoid'))\n",
    "\n",
    "    classifier.compile(optimizer='adam', loss='binary_crossentropy', metrics=['accuracy'])\n",
    "    \n",
    "    return classifier"
   ]
  },
  {
   "cell_type": "code",
   "execution_count": 8,
   "metadata": {
    "tags": []
   },
   "outputs": [
    {
     "output_type": "stream",
     "name": "stdout",
     "text": "Epoch 1/10\n800/800 [==============================] - 2s 2ms/step - loss: 0.5152 - accuracy: 0.7958\nEpoch 2/10\n800/800 [==============================] - 2s 2ms/step - loss: 0.4500 - accuracy: 0.7960\nEpoch 3/10\n800/800 [==============================] - 1s 2ms/step - loss: 0.4479 - accuracy: 0.7960\nEpoch 4/10\n800/800 [==============================] - 2s 2ms/step - loss: 0.4455 - accuracy: 0.7960\nEpoch 5/10\n800/800 [==============================] - 2s 2ms/step - loss: 0.4502 - accuracy: 0.7960\nEpoch 6/10\n800/800 [==============================] - 2s 2ms/step - loss: 0.4446 - accuracy: 0.7960\nEpoch 7/10\n800/800 [==============================] - 2s 2ms/step - loss: 0.4399 - accuracy: 0.7960\nEpoch 8/10\n800/800 [==============================] - 2s 2ms/step - loss: 0.4351 - accuracy: 0.7960\nEpoch 9/10\n800/800 [==============================] - 2s 3ms/step - loss: 0.4319 - accuracy: 0.7960\nEpoch 10/10\n800/800 [==============================] - 2s 3ms/step - loss: 0.4357 - accuracy: 0.7960\n"
    },
    {
     "output_type": "execute_result",
     "data": {
      "text/plain": "<tensorflow.python.keras.callbacks.History at 0x1db51558e88>"
     },
     "metadata": {},
     "execution_count": 8
    }
   ],
   "source": [
    "classifier = build_classifier()\n",
    "\n",
    "classifier.fit(X_train, y_train, batch_size=10, epochs=10)"
   ]
  },
  {
   "cell_type": "code",
   "execution_count": 9,
   "metadata": {},
   "outputs": [
    {
     "output_type": "execute_result",
     "data": {
      "text/plain": "array([[False],\n       [False],\n       [False],\n       ...,\n       [False],\n       [False],\n       [False]])"
     },
     "metadata": {},
     "execution_count": 9
    }
   ],
   "source": [
    "y_pred = classifier.predict(X_test)\n",
    "y_pred = (y_pred > 0.5)  \n",
    "# convert probability to 0(False) or 1(True)\n",
    "\n",
    "y_pred"
   ]
  },
  {
   "source": [
    "## Confusion Matrix\n",
    "\n",
    "- (0, 0) - True Negative\n",
    "- (0, 1) - Falso Positive\n",
    "- (1, 0) - False Negative\n",
    "- (1, 1) - True Negative"
   ],
   "cell_type": "markdown",
   "metadata": {}
  },
  {
   "cell_type": "code",
   "execution_count": 10,
   "metadata": {
    "tags": []
   },
   "outputs": [
    {
     "output_type": "stream",
     "name": "stdout",
     "text": "[[1595    0]\n [ 405    0]]\naccuracy:  0.7975\n"
    }
   ],
   "source": [
    "# We will use a confusion matrix to predict the accuracy\n",
    "cm = confusion_matrix(y_test, y_pred)\n",
    "# (i=j) diagonal of confusion matrix represents correct predictions and the other diagonal shows incorrect predictions\n",
    "print(cm)\n",
    "accuracy = ((cm[0][0]+cm[1][1])/2000)\n",
    "# 2000 is the number of rows in test dataset and sum of diagonal elements gives total correct predictions\n",
    "print(\"accuracy: \", accuracy)"
   ]
  },
  {
   "cell_type": "code",
   "execution_count": 11,
   "metadata": {},
   "outputs": [
    {
     "output_type": "execute_result",
     "data": {
      "text/plain": "array([[False]])"
     },
     "metadata": {},
     "execution_count": 11
    }
   ],
   "source": [
    "# making new predictions\n",
    "new_prediction = classifier.predict(sc.transform(np.array([[0.0, 0, 600, 1, 40, 3, 60000, 2, 1, 1, 50000]])))\n",
    "# we need a horizontal vector here so we use [[]] which creates a 2d array\n",
    "# to avoid warning we make first element float, also do not forget to scale the data\n",
    "new_prediction = (new_prediction > 0.5)\n",
    "new_prediction"
   ]
  },
  {
   "source": [
    "# Evaluating the model\n",
    "\n",
    "Using K-fold cross validation - In this method dataset is divided into k parts and then k-1 parts are used for training and 1 part is used for testing. Also our model is trained k times with different parts of dataset as test set each time."
   ],
   "cell_type": "markdown",
   "metadata": {}
  },
  {
   "cell_type": "code",
   "execution_count": 12,
   "metadata": {
    "tags": []
   },
   "outputs": [
    {
     "output_type": "stream",
     "name": "stdout",
     "text": "Epoch 1/10\n720/720 [==============================] - 2s 2ms/step - loss: 0.4968 - accuracy: 0.7971\nEpoch 2/10\n720/720 [==============================] - 2s 2ms/step - loss: 0.4401 - accuracy: 0.7971\nEpoch 3/10\n720/720 [==============================] - 2s 2ms/step - loss: 0.4298 - accuracy: 0.7971\nEpoch 4/10\n720/720 [==============================] - 2s 2ms/step - loss: 0.4311 - accuracy: 0.7971\nEpoch 5/10\n720/720 [==============================] - 2s 2ms/step - loss: 0.4248 - accuracy: 0.7971\nEpoch 6/10\n720/720 [==============================] - 2s 2ms/step - loss: 0.4307 - accuracy: 0.7971\nEpoch 7/10\n720/720 [==============================] - 2s 3ms/step - loss: 0.4245 - accuracy: 0.8026\nEpoch 8/10\n720/720 [==============================] - 2s 2ms/step - loss: 0.4269 - accuracy: 0.8229\nEpoch 9/10\n720/720 [==============================] - 2s 2ms/step - loss: 0.4272 - accuracy: 0.8224\nEpoch 10/10\n720/720 [==============================] - 2s 2ms/step - loss: 0.4261 - accuracy: 0.8239\n80/80 [==============================] - 0s 2ms/step - loss: 0.4204 - accuracy: 0.8250\nEpoch 1/10\n720/720 [==============================] - 2s 3ms/step - loss: 0.4987 - accuracy: 0.7965\nEpoch 2/10\n720/720 [==============================] - 2s 3ms/step - loss: 0.4342 - accuracy: 0.7967\nEpoch 3/10\n720/720 [==============================] - 2s 3ms/step - loss: 0.4282 - accuracy: 0.7967\nEpoch 4/10\n720/720 [==============================] - 2s 2ms/step - loss: 0.4230 - accuracy: 0.7967\nEpoch 5/10\n720/720 [==============================] - 1s 2ms/step - loss: 0.4159 - accuracy: 0.7967\nEpoch 6/10\n720/720 [==============================] - 2s 2ms/step - loss: 0.4159 - accuracy: 0.8169\nEpoch 7/10\n720/720 [==============================] - 3s 4ms/step - loss: 0.4151 - accuracy: 0.8250\nEpoch 8/10\n720/720 [==============================] - 2s 3ms/step - loss: 0.4115 - accuracy: 0.8247\nEpoch 9/10\n720/720 [==============================] - 2s 3ms/step - loss: 0.4088 - accuracy: 0.8229\nEpoch 10/10\n720/720 [==============================] - 2s 2ms/step - loss: 0.4115 - accuracy: 0.8232\n80/80 [==============================] - 0s 2ms/step - loss: 0.3941 - accuracy: 0.8275\nEpoch 1/10\n704/720 [============================>.] - ETA: 0s - loss: 0.5089 - accuracy: 0.79720/720 [==============================] - 2s 2ms/step - loss: 0.5063 - accuracy: 0.7947\nEpoch 2/10\n720/720 [==============================] - 2s 3ms/step - loss: 0.4433 - accuracy: 0.7956\nEpoch 3/10\n720/720 [==============================] - 2s 2ms/step - loss: 0.4383 - accuracy: 0.7956\nEpoch 4/10\n720/720 [==============================] - 2s 2ms/step - loss: 0.4388 - accuracy: 0.7956\nEpoch 5/10\n720/720 [==============================] - 2s 2ms/step - loss: 0.4355 - accuracy: 0.7956\nEpoch 6/10\n720/720 [==============================] - 1s 2ms/step - loss: 0.4375 - accuracy: 0.7956\nEpoch 7/10\n720/720 [==============================] - 2s 2ms/step - loss: 0.4388 - accuracy: 0.7956\nEpoch 8/10\n720/720 [==============================] - 1s 2ms/step - loss: 0.4357 - accuracy: 0.7956\nEpoch 9/10\n720/720 [==============================] - 2s 2ms/step - loss: 0.4363 - accuracy: 0.7956\nEpoch 10/10\n720/720 [==============================] - 2s 2ms/step - loss: 0.4339 - accuracy: 0.7956\n80/80 [==============================] - 0s 2ms/step - loss: 0.4144 - accuracy: 0.8000\nEpoch 1/10\n720/720 [==============================] - 2s 2ms/step - loss: 0.4927 - accuracy: 0.7971\nEpoch 2/10\n720/720 [==============================] - 2s 2ms/step - loss: 0.4351 - accuracy: 0.7975\nEpoch 3/10\n720/720 [==============================] - 2s 3ms/step - loss: 0.4308 - accuracy: 0.7975\nEpoch 4/10\n720/720 [==============================] - 2s 2ms/step - loss: 0.4268 - accuracy: 0.7975\nEpoch 5/10\n720/720 [==============================] - 2s 2ms/step - loss: 0.4248 - accuracy: 0.7982\nEpoch 6/10\n720/720 [==============================] - 1s 2ms/step - loss: 0.4232 - accuracy: 0.8222\nEpoch 7/10\n720/720 [==============================] - 2s 2ms/step - loss: 0.4237 - accuracy: 0.8253\nEpoch 8/10\n720/720 [==============================] - 2s 3ms/step - loss: 0.4249 - accuracy: 0.8269\nEpoch 9/10\n720/720 [==============================] - 2s 3ms/step - loss: 0.4208 - accuracy: 0.8279\nEpoch 10/10\n720/720 [==============================] - 2s 2ms/step - loss: 0.4234 - accuracy: 0.8288\n80/80 [==============================] - 0s 2ms/step - loss: 0.4393 - accuracy: 0.8213\nEpoch 1/10\n720/720 [==============================] - 2s 3ms/step - loss: 0.5027 - accuracy: 0.7931\nEpoch 2/10\n720/720 [==============================] - 2s 3ms/step - loss: 0.4269 - accuracy: 0.8132\nEpoch 3/10\n720/720 [==============================] - 2s 3ms/step - loss: 0.4158 - accuracy: 0.8188\nEpoch 4/10\n720/720 [==============================] - 2s 2ms/step - loss: 0.4112 - accuracy: 0.8215\nEpoch 5/10\n720/720 [==============================] - 2s 2ms/step - loss: 0.4089 - accuracy: 0.8206\nEpoch 6/10\n720/720 [==============================] - 2s 3ms/step - loss: 0.4065 - accuracy: 0.8181\nEpoch 7/10\n720/720 [==============================] - 2s 3ms/step - loss: 0.4055 - accuracy: 0.8178\nEpoch 8/10\n720/720 [==============================] - 2s 3ms/step - loss: 0.4046 - accuracy: 0.8200\nEpoch 9/10\n720/720 [==============================] - 2s 3ms/step - loss: 0.4071 - accuracy: 0.8201\nEpoch 10/10\n720/720 [==============================] - 2s 3ms/step - loss: 0.3989 - accuracy: 0.8276\n80/80 [==============================] - 0s 2ms/step - loss: 0.3516 - accuracy: 0.8512\nEpoch 1/10\n720/720 [==============================] - 2s 3ms/step - loss: 0.5072 - accuracy: 0.7937\nEpoch 2/10\n720/720 [==============================] - 2s 3ms/step - loss: 0.4398 - accuracy: 0.7944\nEpoch 3/10\n720/720 [==============================] - 2s 3ms/step - loss: 0.4390 - accuracy: 0.7944\nEpoch 4/10\n720/720 [==============================] - 2s 2ms/step - loss: 0.4350 - accuracy: 0.7944\nEpoch 5/10\n720/720 [==============================] - 2s 2ms/step - loss: 0.4316 - accuracy: 0.7944\nEpoch 6/10\n720/720 [==============================] - 2s 2ms/step - loss: 0.4328 - accuracy: 0.7944\nEpoch 7/10\n720/720 [==============================] - 2s 3ms/step - loss: 0.4309 - accuracy: 0.7944\nEpoch 8/10\n720/720 [==============================] - 2s 3ms/step - loss: 0.4294 - accuracy: 0.7944\nEpoch 9/10\n720/720 [==============================] - 2s 3ms/step - loss: 0.4330 - accuracy: 0.8149\nEpoch 10/10\n720/720 [==============================] - 2s 2ms/step - loss: 0.4302 - accuracy: 0.8222\n80/80 [==============================] - 0s 2ms/step - loss: 0.4126 - accuracy: 0.8250\nEpoch 1/10\n720/720 [==============================] - 2s 2ms/step - loss: 0.5064 - accuracy: 0.7968\nEpoch 2/10\n720/720 [==============================] - 1s 2ms/step - loss: 0.4453 - accuracy: 0.7969\nEpoch 3/10\n653/720 [==========================>...] - ETA: 0s - loss: 0.4397 - accuracy: 0.79680/720 [===========================>..] - ETA: 0s - loss: 0.4389 - accuracy: 0.79703/720 [============================>.] - ETA: 0s - loss: 0.4395 - accuracy: 0.79720/720 [==============================] - 2s 2ms/step - loss: 0.4389 - accuracy: 0.7969\nEpoch 4/10\n720/720 [==============================] - 2s 2ms/step - loss: 0.4380 - accuracy: 0.7969\nEpoch 5/10\n720/720 [==============================] - 2s 2ms/step - loss: 0.4376 - accuracy: 0.7969\nEpoch 6/10\n720/720 [==============================] - 2s 2ms/step - loss: 0.4356 - accuracy: 0.7969\nEpoch 7/10\n720/720 [==============================] - 2s 2ms/step - loss: 0.4332 - accuracy: 0.7969\nEpoch 8/10\n720/720 [==============================] - 2s 2ms/step - loss: 0.4304 - accuracy: 0.7969\nEpoch 9/10\n720/720 [==============================] - 2s 2ms/step - loss: 0.4356 - accuracy: 0.7969\nEpoch 10/10\n720/720 [==============================] - 1s 2ms/step - loss: 0.4298 - accuracy: 0.7969\n80/80 [==============================] - 0s 2ms/step - loss: 0.4212 - accuracy: 0.7875\nEpoch 1/10\n720/720 [==============================] - 2s 2ms/step - loss: 0.4874 - accuracy: 0.7962\nEpoch 2/10\n720/720 [==============================] - 1s 2ms/step - loss: 0.4339 - accuracy: 0.7962\nEpoch 3/10\n720/720 [==============================] - 2s 2ms/step - loss: 0.4298 - accuracy: 0.7962\nEpoch 4/10\n720/720 [==============================] - 2s 2ms/step - loss: 0.4265 - accuracy: 0.7962\nEpoch 5/10\n720/720 [==============================] - 1s 2ms/step - loss: 0.4253 - accuracy: 0.7993\nEpoch 6/10\n720/720 [==============================] - 1s 2ms/step - loss: 0.4261 - accuracy: 0.8206\nEpoch 7/10\n720/720 [==============================] - 1s 2ms/step - loss: 0.4242 - accuracy: 0.8229\nEpoch 8/10\n720/720 [==============================] - 1s 2ms/step - loss: 0.4183 - accuracy: 0.8235\nEpoch 9/10\n720/720 [==============================] - 1s 2ms/step - loss: 0.4267 - accuracy: 0.8231\nEpoch 10/10\n720/720 [==============================] - 2s 2ms/step - loss: 0.4213 - accuracy: 0.8239\n80/80 [==============================] - 0s 2ms/step - loss: 0.4325 - accuracy: 0.8150\nEpoch 1/10\n720/720 [==============================] - 1s 2ms/step - loss: 0.4896 - accuracy: 0.7954\nEpoch 2/10\n720/720 [==============================] - 1s 2ms/step - loss: 0.4255 - accuracy: 0.7957\nEpoch 3/10\n720/720 [==============================] - 1s 2ms/step - loss: 0.4200 - accuracy: 0.7957\nEpoch 4/10\n720/720 [==============================] - 2s 2ms/step - loss: 0.4131 - accuracy: 0.8093\nEpoch 5/10\n720/720 [==============================] - 1s 2ms/step - loss: 0.4097 - accuracy: 0.8226\nEpoch 6/10\n720/720 [==============================] - 2s 2ms/step - loss: 0.4059 - accuracy: 0.8226\nEpoch 7/10\n720/720 [==============================] - 2s 2ms/step - loss: 0.4031 - accuracy: 0.8233\nEpoch 8/10\n720/720 [==============================] - 1s 2ms/step - loss: 0.3992 - accuracy: 0.8242\nEpoch 9/10\n720/720 [==============================] - 1s 2ms/step - loss: 0.4006 - accuracy: 0.8208\nEpoch 10/10\n720/720 [==============================] - 2s 2ms/step - loss: 0.4027 - accuracy: 0.8218\n80/80 [==============================] - 0s 2ms/step - loss: 0.4275 - accuracy: 0.8025\nEpoch 1/10\n720/720 [==============================] - 1s 2ms/step - loss: 0.4950 - accuracy: 0.7957\nEpoch 2/10\n720/720 [==============================] - 1s 2ms/step - loss: 0.4374 - accuracy: 0.7961\nEpoch 3/10\n720/720 [==============================] - 1s 2ms/step - loss: 0.4343 - accuracy: 0.7961\nEpoch 4/10\n720/720 [==============================] - 2s 2ms/step - loss: 0.4327 - accuracy: 0.7961\nEpoch 5/10\n720/720 [==============================] - 2s 3ms/step - loss: 0.4296 - accuracy: 0.7961\nEpoch 6/10\n720/720 [==============================] - 2s 3ms/step - loss: 0.4284 - accuracy: 0.7965\nEpoch 7/10\n720/720 [==============================] - 2s 2ms/step - loss: 0.4276 - accuracy: 0.8176\nEpoch 8/10\n720/720 [==============================] - 2s 2ms/step - loss: 0.4280 - accuracy: 0.8189\nEpoch 9/10\n720/720 [==============================] - 2s 2ms/step - loss: 0.4276 - accuracy: 0.8211\nEpoch 10/10\n720/720 [==============================] - 1s 2ms/step - loss: 0.4270 - accuracy: 0.8218\n80/80 [==============================] - 0s 2ms/step - loss: 0.3991 - accuracy: 0.8413\n"
    }
   ],
   "source": [
    "classifier = KerasClassifier(build_fn=build_classifier, batch_size=10, epochs=10)\n",
    "accuracies = cross_val_score(estimator=classifier, X=X_train, y=y_train, cv=10, n_jobs=1)\n",
    "# we basically break X_train and y_train into 10 different parts, and then train and test on those 10 different models\n",
    "# n_jobs is number of CPUs to use(-1 for all), X is data to fit, y are actual answers to compare with predictions\n",
    "# cross_val_score will return k(10 here) accuracies as obtained from k fold cross validation"
   ]
  },
  {
   "cell_type": "code",
   "execution_count": 13,
   "metadata": {
    "tags": []
   },
   "outputs": [
    {
     "output_type": "stream",
     "name": "stdout",
     "text": "0.8196250021457672\n0.01822643186291515\n"
    }
   ],
   "source": [
    "print(accuracies.mean())  # mean\n",
    "print(accuracies.std())  # variance"
   ]
  },
  {
   "source": [
    "# Tuning the model\n",
    "\n",
    "Using GridSearchCV - trying multiple models with different hyperparameters and also performs k-fold cross validation"
   ],
   "cell_type": "markdown",
   "metadata": {}
  },
  {
   "cell_type": "code",
   "execution_count": 14,
   "metadata": {},
   "outputs": [],
   "source": [
    "def build_best_classifier(optimizer):  # important argument if optimizer is to be changed\n",
    "    classifier = Sequential()\n",
    "    classifier.add(Dense(units=6, kernel_initializer='uniform', activation='relu', input_dim=11))\n",
    "    classifier.add(Dropout(rate=0.1))\n",
    "    classifier.add(Dense(units=6, kernel_initializer='uniform', activation='relu'))\n",
    "    classifier.add(Dropout(rate=0.1))\n",
    "    classifier.add(Dense(units=1, kernel_initializer='uniform', activation='sigmoid'))\n",
    "    classifier.compile(optimizer=optimizer, loss='binary_crossentropy', metrics=['accuracy'])\n",
    "    return classifier"
   ]
  },
  {
   "cell_type": "code",
   "execution_count": 15,
   "metadata": {},
   "outputs": [],
   "source": [
    "classifier = KerasClassifier(build_fn=build_best_classifier)  \n",
    "# NOTE that we do not need to provide arguments here\n",
    "\n",
    "# hyperparameters\n",
    "parameters = {'batch_size': [16, 32],  # checks two values 16, 32\n",
    "              'epochs': [10, 20],  # checks two values 10 and 20\n",
    "              'optimizer': ['adam', 'rmsprop']}  # tries with 2 optimizers"
   ]
  },
  {
   "cell_type": "code",
   "execution_count": 16,
   "metadata": {
    "tags": [
     "outputPrepend"
    ]
   },
   "outputs": [
    {
     "output_type": "stream",
     "name": "stdout",
     "text": "============] - 1s 3ms/step - loss: 0.4361 - accuracy: 0.7967\nEpoch 6/20\n225/225 [==============================] - 1s 3ms/step - loss: 0.4354 - accuracy: 0.7967\nEpoch 7/20\n225/225 [==============================] - 1s 3ms/step - loss: 0.4345 - accuracy: 0.7967\nEpoch 8/20\n225/225 [==============================] - 1s 2ms/step - loss: 0.4348 - accuracy: 0.7967\nEpoch 9/20\n225/225 [==============================] - 1s 3ms/step - loss: 0.4332 - accuracy: 0.7967\nEpoch 10/20\n225/225 [==============================] - 1s 3ms/step - loss: 0.4307 - accuracy: 0.7967\nEpoch 11/20\n225/225 [==============================] - 1s 3ms/step - loss: 0.4299 - accuracy: 0.7967\nEpoch 12/20\n225/225 [==============================] - 1s 3ms/step - loss: 0.4288 - accuracy: 0.7967\nEpoch 13/20\n225/225 [==============================] - 1s 3ms/step - loss: 0.4291 - accuracy: 0.7967\nEpoch 14/20\n225/225 [==============================] - 1s 3ms/step - loss: 0.4286 - accuracy: 0.7967\nEpoch 15/20\n225/225 [==============================] - 1s 3ms/step - loss: 0.4293 - accuracy: 0.7967\nEpoch 16/20\n225/225 [==============================] - 1s 3ms/step - loss: 0.4288 - accuracy: 0.7967\nEpoch 17/20\n225/225 [==============================] - 1s 3ms/step - loss: 0.4286 - accuracy: 0.7967\nEpoch 18/20\n225/225 [==============================] - 1s 3ms/step - loss: 0.4277 - accuracy: 0.7967\nEpoch 19/20\n225/225 [==============================] - 1s 3ms/step - loss: 0.4287 - accuracy: 0.7967\nEpoch 20/20\n210/225 [===========================>..] - ETA: 0s - loss: 0.4312 - accuracy: 0.80225/225 [==============================] - 1s 3ms/step - loss: 0.4303 - accuracy: 0.8035\nEpoch 1/20\n225/225 [==============================] - 1s 3ms/step - loss: 0.5993 - accuracy: 0.7954\nEpoch 2/20\n225/225 [==============================] - 1s 3ms/step - loss: 0.4585 - accuracy: 0.7956\nEpoch 3/20\n225/225 [==============================] - 1s 4ms/step - loss: 0.4423 - accuracy: 0.7956\nEpoch 4/20\n225/225 [==============================] - 1s 3ms/step - loss: 0.4413 - accuracy: 0.7956\nEpoch 5/20\n225/225 [==============================] - 1s 3ms/step - loss: 0.4359 - accuracy: 0.7956\nEpoch 6/20\n225/225 [==============================] - 1s 3ms/step - loss: 0.4356 - accuracy: 0.7956\nEpoch 7/20\n225/225 [==============================] - 1s 4ms/step - loss: 0.4345 - accuracy: 0.7956\nEpoch 8/20\n225/225 [==============================] - 1s 3ms/step - loss: 0.4368 - accuracy: 0.7956\nEpoch 9/20\n225/225 [==============================] - 1s 3ms/step - loss: 0.4340 - accuracy: 0.7956\nEpoch 10/20\n225/225 [==============================] - 1s 3ms/step - loss: 0.4348 - accuracy: 0.7956\nEpoch 11/20\n225/225 [==============================] - 1s 4ms/step - loss: 0.4322 - accuracy: 0.7956\nEpoch 12/20\n225/225 [==============================] - 1s 4ms/step - loss: 0.4318 - accuracy: 0.7956\nEpoch 13/20\n225/225 [==============================] - 1s 3ms/step - loss: 0.4329 - accuracy: 0.7956\nEpoch 14/20\n225/225 [==============================] - 1s 3ms/step - loss: 0.4313 - accuracy: 0.7956\nEpoch 15/20\n225/225 [==============================] - 1s 4ms/step - loss: 0.4291 - accuracy: 0.7956\nEpoch 16/20\n225/225 [==============================] - 1s 3ms/step - loss: 0.4284 - accuracy: 0.7956\nEpoch 17/20\n225/225 [==============================] - 1s 3ms/step - loss: 0.4282 - accuracy: 0.7972\nEpoch 18/20\n225/225 [==============================] - 1s 3ms/step - loss: 0.4274 - accuracy: 0.8208\nEpoch 19/20\n225/225 [==============================] - 1s 3ms/step - loss: 0.4261 - accuracy: 0.8194\nEpoch 20/20\n225/225 [==============================] - 1s 3ms/step - loss: 0.4283 - accuracy: 0.8217\nEpoch 1/20\n225/225 [==============================] - 1s 3ms/step - loss: 0.5994 - accuracy: 0.7976\nEpoch 2/20\n225/225 [==============================] - 1s 3ms/step - loss: 0.4583 - accuracy: 0.7975\nEpoch 3/20\n225/225 [==============================] - 1s 3ms/step - loss: 0.4408 - accuracy: 0.7975\nEpoch 4/20\n225/225 [==============================] - 1s 3ms/step - loss: 0.4368 - accuracy: 0.7975\nEpoch 5/20\n225/225 [==============================] - 1s 3ms/step - loss: 0.4374 - accuracy: 0.7975\nEpoch 6/20\n225/225 [==============================] - 1s 2ms/step - loss: 0.4333 - accuracy: 0.7975\nEpoch 7/20\n225/225 [==============================] - 1s 3ms/step - loss: 0.4336 - accuracy: 0.7975\nEpoch 8/20\n225/225 [==============================] - 1s 2ms/step - loss: 0.4302 - accuracy: 0.7975\nEpoch 9/20\n225/225 [==============================] - 1s 2ms/step - loss: 0.4291 - accuracy: 0.7975\nEpoch 10/20\n225/225 [==============================] - 1s 3ms/step - loss: 0.4265 - accuracy: 0.7975\nEpoch 11/20\n225/225 [==============================] - 1s 2ms/step - loss: 0.4254 - accuracy: 0.7975\nEpoch 12/20\n225/225 [==============================] - 1s 2ms/step - loss: 0.4252 - accuracy: 0.7975\nEpoch 13/20\n225/225 [==============================] - 1s 3ms/step - loss: 0.4237 - accuracy: 0.7975\nEpoch 14/20\n206/225 [==========================>...] - ETA: 0s - loss: 0.4236 - accuracy: 0.79225/225 [==============================] - 1s 3ms/step - loss: 0.4265 - accuracy: 0.7975\nEpoch 15/20\n225/225 [==============================] - 1s 3ms/step - loss: 0.4257 - accuracy: 0.8150\nEpoch 16/20\n225/225 [==============================] - 1s 3ms/step - loss: 0.4239 - accuracy: 0.8219\nEpoch 17/20\n225/225 [==============================] - 1s 3ms/step - loss: 0.4229 - accuracy: 0.8236\nEpoch 18/20\n225/225 [==============================] - 1s 3ms/step - loss: 0.4250 - accuracy: 0.8238\nEpoch 19/20\n225/225 [==============================] - 1s 3ms/step - loss: 0.4216 - accuracy: 0.8263\nEpoch 20/20\n225/225 [==============================] - 1s 3ms/step - loss: 0.4234 - accuracy: 0.8267\nEpoch 1/20\n225/225 [==============================] - 1s 2ms/step - loss: 0.6128 - accuracy: 0.7935\nEpoch 2/20\n225/225 [==============================] - 1s 3ms/step - loss: 0.4673 - accuracy: 0.7937\nEpoch 3/20\n225/225 [==============================] - 1s 3ms/step - loss: 0.4483 - accuracy: 0.7937\nEpoch 4/20\n217/225 [===========================>..] - ETA: 0s - loss: 0.4425 - accuracy: 0.79225/225 [==============================] - 1s 3ms/step - loss: 0.4427 - accuracy: 0.7937\nEpoch 5/20\n225/225 [==============================] - 1s 3ms/step - loss: 0.4401 - accuracy: 0.7937\nEpoch 6/20\n225/225 [==============================] - 1s 3ms/step - loss: 0.4384 - accuracy: 0.7937\nEpoch 7/20\n225/225 [==============================] - 1s 3ms/step - loss: 0.4349 - accuracy: 0.7937\nEpoch 8/20\n225/225 [==============================] - 1s 3ms/step - loss: 0.4369 - accuracy: 0.7937\nEpoch 9/20\n225/225 [==============================] - 1s 3ms/step - loss: 0.4351 - accuracy: 0.7937\nEpoch 10/20\n225/225 [==============================] - 1s 3ms/step - loss: 0.4330 - accuracy: 0.7937\nEpoch 11/20\n225/225 [==============================] - 1s 3ms/step - loss: 0.4309 - accuracy: 0.7937\nEpoch 12/20\n225/225 [==============================] - 1s 3ms/step - loss: 0.4318 - accuracy: 0.7937\nEpoch 13/20\n225/225 [==============================] - 1s 3ms/step - loss: 0.4284 - accuracy: 0.7974\nEpoch 14/20\n225/225 [==============================] - 1s 3ms/step - loss: 0.4311 - accuracy: 0.8178\nEpoch 15/20\n225/225 [==============================] - 1s 3ms/step - loss: 0.4315 - accuracy: 0.8193\nEpoch 16/20\n225/225 [==============================] - 1s 3ms/step - loss: 0.4324 - accuracy: 0.8225\nEpoch 17/20\n225/225 [==============================] - 1s 2ms/step - loss: 0.4278 - accuracy: 0.8264\nEpoch 18/20\n225/225 [==============================] - 1s 3ms/step - loss: 0.4284 - accuracy: 0.8254\nEpoch 19/20\n225/225 [==============================] - 1s 3ms/step - loss: 0.4305 - accuracy: 0.8239\nEpoch 20/20\n225/225 [==============================] - 1s 3ms/step - loss: 0.4288 - accuracy: 0.8261\nEpoch 1/20\n225/225 [==============================] - 1s 3ms/step - loss: 0.6613 - accuracy: 0.7917\nEpoch 2/20\n225/225 [==============================] - 1s 3ms/step - loss: 0.6104 - accuracy: 0.7944\nEpoch 3/20\n225/225 [==============================] - 1s 3ms/step - loss: 0.5710 - accuracy: 0.7944\nEpoch 4/20\n225/225 [==============================] - 1s 3ms/step - loss: 0.5431 - accuracy: 0.7944\nEpoch 5/20\n225/225 [==============================] - 1s 3ms/step - loss: 0.5257 - accuracy: 0.7944\nEpoch 6/20\n225/225 [==============================] - 1s 3ms/step - loss: 0.5158 - accuracy: 0.7944\nEpoch 7/20\n225/225 [==============================] - 1s 3ms/step - loss: 0.5110 - accuracy: 0.7944\nEpoch 8/20\n225/225 [==============================] - 1s 3ms/step - loss: 0.5091 - accuracy: 0.7944\nEpoch 9/20\n225/225 [==============================] - 1s 3ms/step - loss: 0.5084 - accuracy: 0.7944\nEpoch 10/20\n225/225 [==============================] - 1s 3ms/step - loss: 0.5081 - accuracy: 0.7944\nEpoch 11/20\n225/225 [==============================] - 1s 3ms/step - loss: 0.5081 - accuracy: 0.7944\nEpoch 12/20\n225/225 [==============================] - 1s 3ms/step - loss: 0.5080 - accuracy: 0.7944\nEpoch 13/20\n225/225 [==============================] - 1s 3ms/step - loss: 0.5080 - accuracy: 0.7944\nEpoch 14/20\n225/225 [==============================] - 1s 3ms/step - loss: 0.5080 - accuracy: 0.7944\nEpoch 15/20\n225/225 [==============================] - 1s 3ms/step - loss: 0.5080 - accuracy: 0.7944\nEpoch 16/20\n225/225 [==============================] - 1s 3ms/step - loss: 0.5080 - accuracy: 0.7944\nEpoch 17/20\n225/225 [==============================] - 1s 3ms/step - loss: 0.5080 - accuracy: 0.7944\nEpoch 18/20\n225/225 [==============================] - 1s 3ms/step - loss: 0.5080 - accuracy: 0.7944\nEpoch 19/20\n225/225 [==============================] - 1s 3ms/step - loss: 0.5080 - accuracy: 0.7944\nEpoch 20/20\n225/225 [==============================] - 1s 2ms/step - loss: 0.5080 - accuracy: 0.7944\nEpoch 1/20\n225/225 [==============================] - 1s 3ms/step - loss: 0.6038 - accuracy: 0.7953\nEpoch 2/20\n225/225 [==============================] - 1s 3ms/step - loss: 0.4552 - accuracy: 0.7969\nEpoch 3/20\n225/225 [==============================] - 1s 3ms/step - loss: 0.4416 - accuracy: 0.7969\nEpoch 4/20\n225/225 [==============================] - 1s 3ms/step - loss: 0.4367 - accuracy: 0.7969\nEpoch 5/20\n225/225 [==============================] - 1s 3ms/step - loss: 0.4347 - accuracy: 0.7969\nEpoch 6/20\n225/225 [==============================] - 1s 3ms/step - loss: 0.4320 - accuracy: 0.7969\nEpoch 7/20\n225/225 [==============================] - 1s 3ms/step - loss: 0.4282 - accuracy: 0.7969\nEpoch 8/20\n225/225 [==============================] - 1s 3ms/step - loss: 0.4306 - accuracy: 0.7969\nEpoch 9/20\n225/225 [==============================] - 1s 3ms/step - loss: 0.4284 - accuracy: 0.7969\nEpoch 10/20\n225/225 [==============================] - 1s 3ms/step - loss: 0.4293 - accuracy: 0.7969\nEpoch 11/20\n225/225 [==============================] - 1s 3ms/step - loss: 0.4251 - accuracy: 0.8011\nEpoch 12/20\n225/225 [==============================] - 1s 3ms/step - loss: 0.4275 - accuracy: 0.8197\nEpoch 13/20\n225/225 [==============================] - 1s 3ms/step - loss: 0.4243 - accuracy: 0.8213\nEpoch 14/20\n225/225 [==============================] - 1s 3ms/step - loss: 0.4260 - accuracy: 0.8226\nEpoch 15/20\n225/225 [==============================] - 1s 3ms/step - loss: 0.4261 - accuracy: 0.8244\nEpoch 16/20\n225/225 [==============================] - 1s 3ms/step - loss: 0.4262 - accuracy: 0.8260\nEpoch 17/20\n225/225 [==============================] - 1s 3ms/step - loss: 0.4296 - accuracy: 0.8257\nEpoch 18/20\n225/225 [==============================] - 1s 3ms/step - loss: 0.4216 - accuracy: 0.8276\nEpoch 19/20\n225/225 [==============================] - 1s 2ms/step - loss: 0.4214 - accuracy: 0.8288\nEpoch 20/20\n225/225 [==============================] - 1s 2ms/step - loss: 0.4224 - accuracy: 0.8278\nEpoch 1/20\n213/225 [===========================>..] - ETA: 0s - loss: 0.6147 - accuracy: 0.79225/225 [==============================] - 1s 2ms/step - loss: 0.6100 - accuracy: 0.7937\nEpoch 2/20\n225/225 [==============================] - 1s 3ms/step - loss: 0.4666 - accuracy: 0.7962\nEpoch 3/20\n225/225 [==============================] - 1s 2ms/step - loss: 0.4467 - accuracy: 0.7962\nEpoch 4/20\n225/225 [==============================] - 1s 3ms/step - loss: 0.4407 - accuracy: 0.7962\nEpoch 5/20\n225/225 [==============================] - 1s 3ms/step - loss: 0.4338 - accuracy: 0.7962\nEpoch 6/20\n225/225 [==============================] - 1s 3ms/step - loss: 0.4334 - accuracy: 0.7962\nEpoch 7/20\n225/225 [==============================] - 1s 3ms/step - loss: 0.4339 - accuracy: 0.7962\nEpoch 8/20\n225/225 [==============================] - 1s 3ms/step - loss: 0.4301 - accuracy: 0.7962\nEpoch 9/20\n225/225 [==============================] - 1s 3ms/step - loss: 0.4314 - accuracy: 0.7962\nEpoch 10/20\n225/225 [==============================] - 1s 3ms/step - loss: 0.4277 - accuracy: 0.7962\nEpoch 11/20\n225/225 [==============================] - 1s 3ms/step - loss: 0.4301 - accuracy: 0.7962\nEpoch 12/20\n225/225 [==============================] - 1s 3ms/step - loss: 0.4291 - accuracy: 0.7962\nEpoch 13/20\n225/225 [==============================] - 1s 3ms/step - loss: 0.4267 - accuracy: 0.7962\nEpoch 14/20\n225/225 [==============================] - 1s 3ms/step - loss: 0.4266 - accuracy: 0.7962\nEpoch 15/20\n225/225 [==============================] - 1s 3ms/step - loss: 0.4256 - accuracy: 0.8000\nEpoch 16/20\n225/225 [==============================] - 1s 3ms/step - loss: 0.4272 - accuracy: 0.8217\nEpoch 17/20\n225/225 [==============================] - 1s 3ms/step - loss: 0.4284 - accuracy: 0.8231\nEpoch 18/20\n225/225 [==============================] - 1s 3ms/step - loss: 0.4285 - accuracy: 0.8243\nEpoch 19/20\n225/225 [==============================] - 1s 2ms/step - loss: 0.4268 - accuracy: 0.8243\nEpoch 20/20\n225/225 [==============================] - 1s 3ms/step - loss: 0.4261 - accuracy: 0.8254\nEpoch 1/20\n225/225 [==============================] - 1s 3ms/step - loss: 0.6183 - accuracy: 0.7947\nEpoch 2/20\n225/225 [==============================] - 1s 3ms/step - loss: 0.4685 - accuracy: 0.7957\nEpoch 3/20\n225/225 [==============================] - 1s 3ms/step - loss: 0.4399 - accuracy: 0.7957\nEpoch 4/20\n225/225 [==============================] - 1s 3ms/step - loss: 0.4300 - accuracy: 0.7958\nEpoch 5/20\n225/225 [==============================] - 1s 3ms/step - loss: 0.4269 - accuracy: 0.8107\nEpoch 6/20\n225/225 [==============================] - 1s 3ms/step - loss: 0.4214 - accuracy: 0.8158\nEpoch 7/20\n225/225 [==============================] - 1s 3ms/step - loss: 0.4173 - accuracy: 0.8207\nEpoch 8/20\n225/225 [==============================] - 1s 3ms/step - loss: 0.4165 - accuracy: 0.8199\nEpoch 9/20\n225/225 [==============================] - 1s 3ms/step - loss: 0.4116 - accuracy: 0.8222\nEpoch 10/20\n225/225 [==============================] - 1s 3ms/step - loss: 0.4093 - accuracy: 0.8211\nEpoch 11/20\n225/225 [==============================] - 1s 3ms/step - loss: 0.4069 - accuracy: 0.8222\nEpoch 12/20\n225/225 [==============================] - 1s 3ms/step - loss: 0.4058 - accuracy: 0.8239\nEpoch 13/20\n225/225 [==============================] - 1s 3ms/step - loss: 0.4057 - accuracy: 0.8203\nEpoch 14/20\n225/225 [==============================] - 1s 3ms/step - loss: 0.4056 - accuracy: 0.8200\nEpoch 15/20\n225/225 [==============================] - 1s 3ms/step - loss: 0.4051 - accuracy: 0.8218\nEpoch 16/20\n225/225 [==============================] - 1s 3ms/step - loss: 0.4024 - accuracy: 0.8232\nEpoch 17/20\n225/225 [==============================] - 1s 3ms/step - loss: 0.4009 - accuracy: 0.8221\nEpoch 18/20\n225/225 [==============================] - 1s 3ms/step - loss: 0.3969 - accuracy: 0.8208\nEpoch 19/20\n225/225 [==============================] - 1s 3ms/step - loss: 0.4022 - accuracy: 0.8217\nEpoch 20/20\n225/225 [==============================] - 1s 3ms/step - loss: 0.4035 - accuracy: 0.8222\nEpoch 1/20\n225/225 [==============================] - 1s 3ms/step - loss: 0.5950 - accuracy: 0.7956\nEpoch 2/20\n225/225 [==============================] - 1s 3ms/step - loss: 0.4535 - accuracy: 0.7961\nEpoch 3/20\n225/225 [==============================] - 1s 3ms/step - loss: 0.4410 - accuracy: 0.7961\nEpoch 4/20\n225/225 [==============================] - 1s 3ms/step - loss: 0.4387 - accuracy: 0.7961\nEpoch 5/20\n225/225 [==============================] - 1s 3ms/step - loss: 0.4369 - accuracy: 0.7961\nEpoch 6/20\n225/225 [==============================] - 1s 3ms/step - loss: 0.4350 - accuracy: 0.7961\nEpoch 7/20\n225/225 [==============================] - 1s 3ms/step - loss: 0.4345 - accuracy: 0.7961\nEpoch 8/20\n225/225 [==============================] - 1s 3ms/step - loss: 0.4329 - accuracy: 0.7961\nEpoch 9/20\n225/225 [==============================] - 1s 3ms/step - loss: 0.4295 - accuracy: 0.7961\nEpoch 10/20\n225/225 [==============================] - 1s 3ms/step - loss: 0.4308 - accuracy: 0.7961\nEpoch 11/20\n225/225 [==============================] - 1s 3ms/step - loss: 0.4273 - accuracy: 0.7961\nEpoch 12/20\n225/225 [==============================] - 1s 3ms/step - loss: 0.4303 - accuracy: 0.7961\nEpoch 13/20\n225/225 [==============================] - 1s 3ms/step - loss: 0.4278 - accuracy: 0.7961\nEpoch 14/20\n225/225 [==============================] - 1s 3ms/step - loss: 0.4252 - accuracy: 0.8110\nEpoch 15/20\n225/225 [==============================] - 1s 3ms/step - loss: 0.4243 - accuracy: 0.8228\nEpoch 16/20\n225/225 [==============================] - 1s 3ms/step - loss: 0.4277 - accuracy: 0.8238\nEpoch 17/20\n225/225 [==============================] - 1s 3ms/step - loss: 0.4307 - accuracy: 0.8247\nEpoch 18/20\n225/225 [==============================] - 1s 3ms/step - loss: 0.4236 - accuracy: 0.8256\nEpoch 19/20\n225/225 [==============================] - 1s 3ms/step - loss: 0.4275 - accuracy: 0.8257\nEpoch 20/20\n225/225 [==============================] - 1s 3ms/step - loss: 0.4257 - accuracy: 0.8271\nEpoch 1/20\n500/500 [==============================] - 1s 3ms/step - loss: 0.5274 - accuracy: 0.7955\nEpoch 2/20\n500/500 [==============================] - 1s 3ms/step - loss: 0.4401 - accuracy: 0.7960\nEpoch 3/20\n500/500 [==============================] - 1s 3ms/step - loss: 0.4343 - accuracy: 0.7960\nEpoch 4/20\n500/500 [==============================] - 1s 3ms/step - loss: 0.4276 - accuracy: 0.7960\nEpoch 5/20\n500/500 [==============================] - 1s 3ms/step - loss: 0.4293 - accuracy: 0.7960\nEpoch 6/20\n500/500 [==============================] - 1s 3ms/step - loss: 0.4252 - accuracy: 0.8066\nEpoch 7/20\n500/500 [==============================] - 1s 3ms/step - loss: 0.4250 - accuracy: 0.8207\nEpoch 8/20\n500/500 [==============================] - 1s 3ms/step - loss: 0.4257 - accuracy: 0.8239\nEpoch 9/20\n500/500 [==============================] - 1s 3ms/step - loss: 0.4270 - accuracy: 0.8257\nEpoch 10/20\n500/500 [==============================] - 2s 3ms/step - loss: 0.4254 - accuracy: 0.8265\nEpoch 11/20\n500/500 [==============================] - 1s 3ms/step - loss: 0.4244 - accuracy: 0.8257\nEpoch 12/20\n500/500 [==============================] - 1s 3ms/step - loss: 0.4250 - accuracy: 0.8276\nEpoch 13/20\n500/500 [==============================] - 1s 3ms/step - loss: 0.4248 - accuracy: 0.8300\nEpoch 14/20\n500/500 [==============================] - 1s 3ms/step - loss: 0.4230 - accuracy: 0.8306\nEpoch 15/20\n500/500 [==============================] - 1s 3ms/step - loss: 0.4214 - accuracy: 0.8294\nEpoch 16/20\n500/500 [==============================] - 1s 3ms/step - loss: 0.4220 - accuracy: 0.8310\nEpoch 17/20\n500/500 [==============================] - 1s 3ms/step - loss: 0.4250 - accuracy: 0.8290\nEpoch 18/20\n500/500 [==============================] - 1s 3ms/step - loss: 0.4249 - accuracy: 0.8304\nEpoch 19/20\n500/500 [==============================] - 1s 2ms/step - loss: 0.4240 - accuracy: 0.8294\nEpoch 20/20\n500/500 [==============================] - 1s 3ms/step - loss: 0.4225 - accuracy: 0.8305\n"
    }
   ],
   "source": [
    "grid_search = GridSearchCV(estimator=classifier, param_grid=parameters, scoring='accuracy', cv=10)\n",
    "# estimator is our model, param_grid contains parameters dictionary we try and cv aur number of k folds\n",
    "\n",
    "grid_search = grid_search.fit(X_train, y_train)"
   ]
  },
  {
   "cell_type": "code",
   "execution_count": 17,
   "metadata": {
    "tags": []
   },
   "outputs": [
    {
     "output_type": "stream",
     "name": "stdout",
     "text": "best_parameters:  {'batch_size': 16, 'epochs': 20, 'optimizer': 'rmsprop'}\nbest_accuracy:  0.8318749999999999\n"
    }
   ],
   "source": [
    "best_parameters = grid_search.best_params_\n",
    "best_accuracy = grid_search.best_score_\n",
    "print(\"best_parameters: \", best_parameters)\n",
    "print(\"best_accuracy: \", best_accuracy)"
   ]
  }
 ]
}